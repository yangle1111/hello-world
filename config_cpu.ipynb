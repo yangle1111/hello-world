{
  "nbformat": 4,
  "nbformat_minor": 0,
  "metadata": {
    "colab": {
      "name": "config-cpu.ipynb",
      "version": "0.3.2",
      "provenance": [],
      "collapsed_sections": []
    },
    "kernelspec": {
      "name": "python3",
      "display_name": "Python 3"
    }
  },
  "cells": [
    {
      "cell_type": "code",
      "metadata": {
        "id": "S6S7XfCFd4gU",
        "colab_type": "code",
        "colab": {
          "base_uri": "https://localhost:8080/",
          "height": 557
        },
        "outputId": "f43e2f81-9513-43ac-b957-fdc5588a7780"
      },
      "source": [
        "!du -sh *"
      ],
      "execution_count": 49,
      "outputs": [
        {
          "output_type": "stream",
          "text": [
            "6.4M\tbin\n",
            "4.0K\tboot\n",
            "55M\tcontent\n",
            "49M\tdatalab\n",
            "0\tdev\n",
            "18M\tdrive\n",
            "4.1M\tetc\n",
            "4.0K\thome\n",
            "68M\tlib\n",
            "5.8M\tlib32\n",
            "4.0K\tlib64\n",
            "4.0K\tmedia\n",
            "4.0K\tmnt\n",
            "70M\topt\n",
            "du: cannot access 'proc/2611/task/2611/fd/4': No such file or directory\n",
            "du: cannot access 'proc/2611/task/2611/fdinfo/4': No such file or directory\n",
            "du: cannot access 'proc/2611/fd/4': No such file or directory\n",
            "du: cannot access 'proc/2611/fdinfo/4': No such file or directory\n",
            "0\tproc\n",
            "52M\troot\n",
            "80K\trun\n",
            "3.8M\tsbin\n",
            "4.0K\tsrv\n",
            "3.8G\tswift\n",
            "0\tsys\n",
            "1.1G\ttensorflow-2.0.0b1\n",
            "12K\ttmp\n",
            "356M\ttools\n",
            "19G\tusr\n",
            "113M\tvar\n"
          ],
          "name": "stdout"
        }
      ]
    },
    {
      "cell_type": "code",
      "metadata": {
        "id": "AIkIhvQjcLqn",
        "colab_type": "code",
        "colab": {
          "base_uri": "https://localhost:8080/",
          "height": 215
        },
        "outputId": "71cc694a-8ee8-467a-8fee-2b2d25e039aa"
      },
      "source": [
        "!ls -lh usr "
      ],
      "execution_count": 50,
      "outputs": [
        {
          "output_type": "stream",
          "text": [
            "total 44K\n",
            "drwxr-xr-x 1 root root 4.0K Aug 22 07:34 bin\n",
            "drwxr-xr-x 2 root root 4.0K Apr 24  2018 games\n",
            "drwxr-xr-x 1 root root 4.0K Aug 20 16:10 grte\n",
            "drwxr-xr-x 1 root root 4.0K Aug 20 16:10 include\n",
            "drwxr-xr-x 1 root root 4.0K Aug 20 16:09 lib\n",
            "drwxr-xr-x 3 root root 4.0K Aug 20 16:05 lib32\n",
            "drwxr-xr-x 1 root root 4.0K Aug 20 16:40 local\n",
            "drwxr-xr-x 1 root root 4.0K Aug 20 16:09 sbin\n",
            "drwxr-xr-x 1 root root 4.0K Aug 20 16:12 share\n",
            "drwxr-xr-x 1 root root 4.0K Aug 20 16:09 src\n"
          ],
          "name": "stdout"
        }
      ]
    },
    {
      "cell_type": "code",
      "metadata": {
        "id": "kaFZ9Bcicf2t",
        "colab_type": "code",
        "colab": {}
      },
      "source": [
        "os.chdir('../')"
      ],
      "execution_count": 0,
      "outputs": []
    },
    {
      "cell_type": "code",
      "metadata": {
        "id": "04uNhG7AV9YK",
        "colab_type": "code",
        "colab": {
          "base_uri": "https://localhost:8080/",
          "height": 53
        },
        "outputId": "983f9d89-abdd-4b22-d374-dc041ee73098"
      },
      "source": [
        "!ls"
      ],
      "execution_count": 35,
      "outputs": [
        {
          "output_type": "stream",
          "text": [
            " calc.py       config-cpu.ipynb         config-TPU.ipynb\n",
            " clean.ipynb  'config-GPU(k80).ipynb'   KNN_classification_iris.py\n"
          ],
          "name": "stdout"
        }
      ]
    },
    {
      "cell_type": "code",
      "metadata": {
        "id": "T1fYO-J8QtVD",
        "colab_type": "code",
        "outputId": "361bf2f2-bab8-4ef0-9ee2-decd7f973138",
        "colab": {
          "base_uri": "https://localhost:8080/",
          "height": 107
        }
      },
      "source": [
        "!python3 calc.py"
      ],
      "execution_count": 0,
      "outputs": [
        {
          "output_type": "stream",
          "text": [
            "电:[34.133 32.762 30.019 28.648 27.276 20.419  6.705  1.219]\n",
            "y.l天然气:[17.726 16.945 16.164 15.383 14.602 13.821 13.04  12.259]\n",
            "孙蓓\n",
            "天然气:[17.363 16.468 15.573 14.678 13.783 12.888 11.993 11.098]\n",
            "[3763.8175, 4113.7072, 4479.2343, 4860.3988, 5257.2007, 5669.64, 6097.7167, 6541.4308]\n"
          ],
          "name": "stdout"
        }
      ]
    },
    {
      "cell_type": "code",
      "metadata": {
        "id": "q6SvO1-YQ05y",
        "colab_type": "code",
        "colab": {}
      },
      "source": [
        "import os\n",
        "os.chdir('../drive/colab')"
      ],
      "execution_count": 0,
      "outputs": []
    },
    {
      "cell_type": "code",
      "metadata": {
        "id": "LhBKBAbNQawj",
        "colab_type": "code",
        "outputId": "fe9e2aa1-1586-465c-a54c-bcd4a8ae7d1a",
        "colab": {
          "base_uri": "https://localhost:8080/",
          "height": 35
        }
      },
      "source": [
        "!dir drive"
      ],
      "execution_count": 0,
      "outputs": [
        {
          "output_type": "stream",
          "text": [
            "book  colab  Colab\\ Notebooks\n"
          ],
          "name": "stdout"
        }
      ]
    },
    {
      "cell_type": "code",
      "metadata": {
        "id": "U6nAqemnQOBR",
        "colab_type": "code",
        "colab": {}
      },
      "source": [
        "!mkdir -p drive\n",
        "!google-drive-ocamlfuse drive"
      ],
      "execution_count": 0,
      "outputs": []
    },
    {
      "cell_type": "code",
      "metadata": {
        "id": "fFfINVDQPr6R",
        "colab_type": "code",
        "outputId": "fbea196e-dba1-42d6-ae01-a65a83a9895e",
        "colab": {
          "base_uri": "https://localhost:8080/",
          "height": 235
        }
      },
      "source": [
        "!apt-get install -y -qq software-properties-common python-software-properties module-init-tools\n",
        "!add-apt-repository -y ppa:alessandro-strada/ppa 2>&1 > /dev/null\n",
        "!apt-get update -qq 2>&1 > /dev/null\n",
        "!apt-get -y install -qq google-drive-ocamlfuse fuse\n",
        "from google.colab import auth\n",
        "auth.authenticate_user()\n",
        "from oauth2client.client import GoogleCredentials\n",
        "creds = GoogleCredentials.get_application_default()\n",
        "import getpass\n",
        "!google-drive-ocamlfuse -headless -id={creds.client_id} -secret={creds.client_secret} < /dev/null 2>&1 | grep URL\n",
        "vcode = getpass.getpass()\n",
        "!echo {vcode} | google-drive-ocamlfuse -headless -id={creds.client_id} -secret={creds.client_secret}"
      ],
      "execution_count": 0,
      "outputs": [
        {
          "output_type": "stream",
          "text": [
            "E: Package 'python-software-properties' has no installation candidate\n",
            "Selecting previously unselected package google-drive-ocamlfuse.\n",
            "(Reading database ... 131186 files and directories currently installed.)\n",
            "Preparing to unpack .../google-drive-ocamlfuse_0.7.6-0ubuntu1~ubuntu18.04.1_amd64.deb ...\n",
            "Unpacking google-drive-ocamlfuse (0.7.6-0ubuntu1~ubuntu18.04.1) ...\n",
            "Setting up google-drive-ocamlfuse (0.7.6-0ubuntu1~ubuntu18.04.1) ...\n",
            "Processing triggers for man-db (2.8.3-2ubuntu0.1) ...\n",
            "Please, open the following URL in a web browser: https://accounts.google.com/o/oauth2/auth?client_id=32555940559.apps.googleusercontent.com&redirect_uri=urn%3Aietf%3Awg%3Aoauth%3A2.0%3Aoob&scope=https%3A%2F%2Fwww.googleapis.com%2Fauth%2Fdrive&response_type=code&access_type=offline&approval_prompt=force\n",
            "··········\n",
            "Please, open the following URL in a web browser: https://accounts.google.com/o/oauth2/auth?client_id=32555940559.apps.googleusercontent.com&redirect_uri=urn%3Aietf%3Awg%3Aoauth%3A2.0%3Aoob&scope=https%3A%2F%2Fwww.googleapis.com%2Fauth%2Fdrive&response_type=code&access_type=offline&approval_prompt=force\n",
            "Please enter the verification code: Access token retrieved correctly.\n"
          ],
          "name": "stdout"
        }
      ]
    },
    {
      "cell_type": "code",
      "metadata": {
        "id": "f0irIrBDPAgr",
        "colab_type": "code",
        "colab": {}
      },
      "source": [
        "import os\n",
        "os.chdir('../')"
      ],
      "execution_count": 0,
      "outputs": []
    },
    {
      "cell_type": "code",
      "metadata": {
        "id": "WKZxU892PDFS",
        "colab_type": "code",
        "outputId": "27f7d6d6-7be5-4c3a-d535-d7d2bd73717a",
        "colab": {
          "base_uri": "https://localhost:8080/",
          "height": 71
        }
      },
      "source": [
        "!ls"
      ],
      "execution_count": 0,
      "outputs": [
        {
          "output_type": "stream",
          "text": [
            "bin\t datalab  home\t lib64\topt   run   swift\t\ttmp    var\n",
            "boot\t dev\t  lib\t media\tproc  sbin  sys\t\t\ttools\n",
            "content  etc\t  lib32  mnt\troot  srv   tensorflow-2.0.0b1\tusr\n"
          ],
          "name": "stdout"
        }
      ]
    },
    {
      "cell_type": "code",
      "metadata": {
        "id": "PO3z7gnLJx1N",
        "colab_type": "code",
        "outputId": "536b8392-b031-4ba2-a42d-5c48f9629bd0",
        "colab": {
          "base_uri": "https://localhost:8080/",
          "height": 53
        }
      },
      "source": [
        "import tensorflow as tf \n",
        "import numpy as np\n",
        "import timeit\n",
        "\n",
        "tf.reset_default_graph()\n",
        "img = np.random.randn(128, 256, 256, 3).astype(np.float32)\n",
        "w = np.random.randn(5, 5, 3, 256).astype(np.float32)\n",
        "conv = tf.nn.conv2d(img, w, [1,2,2,1], padding='SAME')\n",
        "\n",
        "with tf.Session() as sess:\n",
        "  # with tf.device(\"/gpu:0\") as dev:\n",
        "  %timeit sess.run(conv)"
      ],
      "execution_count": 0,
      "outputs": [
        {
          "output_type": "stream",
          "text": [
            "The slowest run took 5.02 times longer than the fastest. This could mean that an intermediate result is being cached.\n",
            "1 loop, best of 3: 1.77 s per loop\n"
          ],
          "name": "stdout"
        }
      ]
    },
    {
      "cell_type": "code",
      "metadata": {
        "id": "fGR_Km8gGLvL",
        "colab_type": "code",
        "outputId": "86063473-5e31-4d52-bd0c-294fd89105ea",
        "colab": {
          "base_uri": "https://localhost:8080/",
          "height": 107
        }
      },
      "source": [
        "!python3 calc.py"
      ],
      "execution_count": 0,
      "outputs": [
        {
          "output_type": "stream",
          "text": [
            "电:[34.133 32.762 30.019 28.648 27.276 20.419  6.705  1.219]\n",
            "y.l天然气:[17.726 16.945 16.164 15.383 14.602 13.821 13.04  12.259]\n",
            "孙蓓\n",
            "天然气:[17.363 16.468 15.573 14.678 13.783 12.888 11.993 11.098]\n",
            "[3763.8175, 4113.7072, 4479.2343, 4860.3988, 5257.2007, 5669.64, 6097.7167, 6541.4308]\n"
          ],
          "name": "stdout"
        }
      ]
    },
    {
      "cell_type": "code",
      "metadata": {
        "id": "O65QHFT29Rmi",
        "colab_type": "code",
        "colab": {}
      },
      "source": [
        "import os"
      ],
      "execution_count": 0,
      "outputs": []
    },
    {
      "cell_type": "code",
      "metadata": {
        "id": "aSZxgWpU9anJ",
        "colab_type": "code",
        "outputId": "9d216c5e-86ab-40e4-8f33-f618912f309e",
        "colab": {
          "base_uri": "https://localhost:8080/",
          "height": 35
        }
      },
      "source": [
        "os.path"
      ],
      "execution_count": 0,
      "outputs": [
        {
          "output_type": "execute_result",
          "data": {
            "text/plain": [
              "<module 'posixpath' from '/usr/lib/python3.6/posixpath.py'>"
            ]
          },
          "metadata": {
            "tags": []
          },
          "execution_count": 10
        }
      ]
    },
    {
      "cell_type": "code",
      "metadata": {
        "id": "Mt6UfFew9cVy",
        "colab_type": "code",
        "colab": {}
      },
      "source": [
        "os.chdir('../drive/colab')"
      ],
      "execution_count": 0,
      "outputs": []
    },
    {
      "cell_type": "code",
      "metadata": {
        "id": "C7FBlSUN_MjN",
        "colab_type": "code",
        "outputId": "b36c37a8-6813-4573-a508-d5a75e3fe0ed",
        "colab": {
          "base_uri": "https://localhost:8080/",
          "height": 125
        }
      },
      "source": [
        "!ls"
      ],
      "execution_count": 0,
      "outputs": [
        {
          "output_type": "stream",
          "text": [
            "bin\t etc\tmnt   srv\t\t\t tmp\n",
            "boot\t home\topt   swift\t\t\t tools\n",
            "content  lib\tproc  sys\t\t\t train-images-idx3-ubyte.gz\n",
            "datalab  lib32\troot  t10k-images-idx3-ubyte.gz  train-labels-idx1-ubyte.gz\n",
            "dev\t lib64\trun   t10k-labels-idx1-ubyte.gz  usr\n",
            "drive\t media\tsbin  tensorflow-2.0.0b1\t var\n"
          ],
          "name": "stdout"
        }
      ]
    },
    {
      "cell_type": "code",
      "metadata": {
        "id": "xVzZP72j_Rh7",
        "colab_type": "code",
        "outputId": "0ef00bf7-e72c-4496-8714-160f3ef85d8d",
        "colab": {
          "base_uri": "https://localhost:8080/",
          "height": 35
        }
      },
      "source": [
        "!dir usr"
      ],
      "execution_count": 0,
      "outputs": [
        {
          "output_type": "stream",
          "text": [
            "bin  games  grte  include  lib\tlib32  lib64-nvidia  local  sbin  share  src\n"
          ],
          "name": "stdout"
        }
      ]
    },
    {
      "cell_type": "code",
      "metadata": {
        "id": "3LeCTRkh_X7_",
        "colab_type": "code",
        "outputId": "2c1e3e15-9274-4b28-d095-39615de8cdf1",
        "colab": {
          "base_uri": "https://localhost:8080/",
          "height": 35
        }
      },
      "source": [
        "!dir drive"
      ],
      "execution_count": 0,
      "outputs": [
        {
          "output_type": "stream",
          "text": [
            "book  colab  Colab\\ Notebooks\n"
          ],
          "name": "stdout"
        }
      ]
    },
    {
      "cell_type": "code",
      "metadata": {
        "id": "zY7d6w7z_9OJ",
        "colab_type": "code",
        "colab": {}
      },
      "source": [
        "import tensorflow as tf\n",
        "import keras\n",
        "import torch"
      ],
      "execution_count": 0,
      "outputs": []
    },
    {
      "cell_type": "code",
      "metadata": {
        "id": "SXokVkZbTOfa",
        "colab_type": "code",
        "outputId": "448b3668-92ca-4a07-a43d-1a89996c3f3b",
        "colab": {
          "base_uri": "https://localhost:8080/",
          "height": 35
        }
      },
      "source": [
        "torch.__version__"
      ],
      "execution_count": 0,
      "outputs": [
        {
          "output_type": "execute_result",
          "data": {
            "text/plain": [
              "'1.1.0'"
            ]
          },
          "metadata": {
            "tags": []
          },
          "execution_count": 33
        }
      ]
    },
    {
      "cell_type": "code",
      "metadata": {
        "id": "5vOCjrUdTUTy",
        "colab_type": "code",
        "colab": {}
      },
      "source": [
        "import numpy as np\n",
        "import pandas as pd\n",
        "import matplotlib.pyplot as plt"
      ],
      "execution_count": 0,
      "outputs": []
    },
    {
      "cell_type": "code",
      "metadata": {
        "id": "ThryCIB0GJSs",
        "colab_type": "code",
        "colab": {}
      },
      "source": [
        ""
      ],
      "execution_count": 0,
      "outputs": []
    }
  ]
}